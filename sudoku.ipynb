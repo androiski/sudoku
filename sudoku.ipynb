{
 "cells": [
  {
   "cell_type": "markdown",
   "metadata": {},
   "source": [
    "This notebook is my attempt to copy several Sudoku solving guides online. As well as to experiment with Sudoku Puzzle Theory and Deep Learning\n",
    "\n",
    "https://www.activestate.com/blog/solving-sudoku-with-python-and-artificial-intelligence/\n",
    "\n",
    "https://www.kaggle.com/code/yashchoudhary/deep-sudoku-solver-multiple-approaches/notebook\n",
    "\n",
    "https://www.analyticsvidhya.com/blog/2021/05/solving-sudoku-from-image-using-deep-learning-with-python-code/ "
   ]
  },
  {
   "cell_type": "markdown",
   "metadata": {},
   "source": [
    "handle imports"
   ]
  },
  {
   "cell_type": "code",
   "execution_count": 4,
   "metadata": {},
   "outputs": [],
   "source": [
    "import numpy as np\n",
    "import pandas as pd\n",
    "import time\n",
    "import itertools\n",
    "#download dataset from https://www.kaggle.com/datasets/rohanrao/sudoku\n",
    "#gitignore should ignore the large csv file\n",
    "\n",
    "#sudoku_df = pd.DataFrame(pd.read_csv('sudoku.csv'))\n",
    "# nrows to limit import size, the file has 9million rows so.... (it took me 20secs)\n",
    "sudoku_df = pd.DataFrame(pd.read_csv('sudoku.csv', nrows=100))"
   ]
  },
  {
   "cell_type": "markdown",
   "metadata": {},
   "source": [
    "visualize sudoku puzzle"
   ]
  },
  {
   "cell_type": "code",
   "execution_count": 8,
   "metadata": {},
   "outputs": [],
   "source": [
    "# this def shapes the string of 81 char into a 9x9 arr\n",
    "def sudoku_shape(sudoku_df):\n",
    "    for n in range(sudoku_df.shape[0]):\n",
    "        sudoku_df.iloc[n,0] = np.reshape(list(sudoku_df.puzzle.values[n]),(9,9)).astype(int)\n",
    "        sudoku_df.iloc[n,1] = np.reshape(list(sudoku_df.solution.values[n]),(9,9)).astype(int)\n",
    "    return sudoku_df\n",
    "\n",
    "#depending on how many rows you imported, this could take a while.\n",
    "#in the future i might do this for the entire file and save it as some binary or something\n",
    "sudoku_df = sudoku_shape(sudoku_df)"
   ]
  },
  {
   "cell_type": "markdown",
   "metadata": {},
   "source": [
    "example 0, unsolved"
   ]
  },
  {
   "cell_type": "code",
   "execution_count": 10,
   "metadata": {},
   "outputs": [
    {
     "data": {
      "text/plain": [
       "array([[0, 7, 0, 0, 0, 0, 0, 4, 3],\n",
       "       [0, 4, 0, 0, 0, 9, 6, 1, 0],\n",
       "       [8, 0, 0, 6, 3, 4, 9, 0, 0],\n",
       "       [0, 9, 4, 0, 5, 2, 0, 0, 0],\n",
       "       [3, 5, 8, 4, 6, 0, 0, 2, 0],\n",
       "       [0, 0, 0, 8, 0, 0, 5, 3, 0],\n",
       "       [0, 8, 0, 0, 7, 0, 0, 9, 1],\n",
       "       [9, 0, 2, 1, 0, 0, 0, 0, 5],\n",
       "       [0, 0, 7, 0, 4, 0, 8, 0, 2]])"
      ]
     },
     "execution_count": 10,
     "metadata": {},
     "output_type": "execute_result"
    }
   ],
   "source": [
    "sudoku_df.iloc[0,0]"
   ]
  },
  {
   "cell_type": "markdown",
   "metadata": {},
   "source": [
    "example 0, solved"
   ]
  },
  {
   "cell_type": "code",
   "execution_count": 11,
   "metadata": {},
   "outputs": [
    {
     "data": {
      "text/plain": [
       "array([[6, 7, 9, 5, 1, 8, 2, 4, 3],\n",
       "       [5, 4, 3, 7, 2, 9, 6, 1, 8],\n",
       "       [8, 2, 1, 6, 3, 4, 9, 5, 7],\n",
       "       [7, 9, 4, 3, 5, 2, 1, 8, 6],\n",
       "       [3, 5, 8, 4, 6, 1, 7, 2, 9],\n",
       "       [2, 1, 6, 8, 9, 7, 5, 3, 4],\n",
       "       [4, 8, 5, 2, 7, 6, 3, 9, 1],\n",
       "       [9, 6, 2, 1, 8, 3, 4, 7, 5],\n",
       "       [1, 3, 7, 9, 4, 5, 8, 6, 2]])"
      ]
     },
     "execution_count": 11,
     "metadata": {},
     "output_type": "execute_result"
    }
   ],
   "source": [
    "sudoku_df.iloc[0,1]"
   ]
  },
  {
   "cell_type": "markdown",
   "metadata": {},
   "source": [
    "check if proposed solution is valid"
   ]
  },
  {
   "cell_type": "code",
   "execution_count": 12,
   "metadata": {},
   "outputs": [],
   "source": [
    "def check_puzzle(sudoku_puzzle):\n",
    "    # check for 9 unique digits in row and col\n",
    "    checkRow = all([all([x in sudoku_puzzle[nrow,:] for x in range(1,10)]) for nrow in range(9)])\n",
    "    checkCol = all([all([x in sudoku_puzzle[:,ncol] for x in range(1,10)]) for ncol in range(9)])\n",
    "    \n",
    "    # check for 9 unique digits in each home\n",
    "    checkUpperLeft = all([x in sudoku_puzzle[0:3,0:3] for x in range(1,10)])\n",
    "    checkUpperMid = all([x in sudoku_puzzle[0:3,3:6] for x in range(1,10)])\n",
    "    checkUpperRight = all([x in sudoku_puzzle[0:3,6:9] for x in range(1,10)])\n",
    "\n",
    "    checkMidLeft = all([x in sudoku_puzzle[3:6,0:3] for x in range(1,10)])\n",
    "    checkMidMid = all([x in sudoku_puzzle[3:6,3:6] for x in range(1,10)])\n",
    "    checkMidRight = all([x in sudoku_puzzle[3:6,6:9] for x in range(1,10)])\n",
    "\n",
    "    checkLowerLeft = all([x in sudoku_puzzle[6:9,0:3] for x in range(1,10)])\n",
    "    checkLowerMid = all([x in sudoku_puzzle[6:9,3:6] for x in range(1,10)])\n",
    "    checkLowerRight = all([x in sudoku_puzzle[6:9,6:9] for x in range(1,10)])\n",
    "\n",
    "    solved = all([checkRow,checkCol,checkUpperLeft,checkUpperMid,checkUpperRight,\n",
    "                  checkMidLeft,checkMidMid,checkMidRight,checkLowerLeft,checkLowerMid,checkLowerRight])\n",
    "    if solved:\n",
    "        for line in sudoku_puzzle:\n",
    "            print(*line)\n",
    "    return solved"
   ]
  },
  {
   "cell_type": "code",
   "execution_count": 13,
   "metadata": {},
   "outputs": [
    {
     "name": "stdout",
     "output_type": "stream",
     "text": [
      "6 7 9 5 1 8 2 4 3\n",
      "5 4 3 7 2 9 6 1 8\n",
      "8 2 1 6 3 4 9 5 7\n",
      "7 9 4 3 5 2 1 8 6\n",
      "3 5 8 4 6 1 7 2 9\n",
      "2 1 6 8 9 7 5 3 4\n",
      "4 8 5 2 7 6 3 9 1\n",
      "9 6 2 1 8 3 4 7 5\n",
      "1 3 7 9 4 5 8 6 2\n"
     ]
    },
    {
     "data": {
      "text/plain": [
       "True"
      ]
     },
     "execution_count": 13,
     "metadata": {},
     "output_type": "execute_result"
    }
   ],
   "source": [
    "check_puzzle(sudoku_df.iloc[0,1])"
   ]
  }
 ],
 "metadata": {
  "interpreter": {
   "hash": "3173b21dbf983a4227ce76226045cc685219429fa0b3441f54f6a379fdfb83d6"
  },
  "kernelspec": {
   "display_name": "Python 3.10.4 64-bit",
   "language": "python",
   "name": "python3"
  },
  "language_info": {
   "codemirror_mode": {
    "name": "ipython",
    "version": 3
   },
   "file_extension": ".py",
   "mimetype": "text/x-python",
   "name": "python",
   "nbconvert_exporter": "python",
   "pygments_lexer": "ipython3",
   "version": "3.10.4"
  },
  "orig_nbformat": 4
 },
 "nbformat": 4,
 "nbformat_minor": 2
}
